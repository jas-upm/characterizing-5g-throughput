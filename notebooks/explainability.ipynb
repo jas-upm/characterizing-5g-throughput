{
 "cells": [
  {
   "cell_type": "markdown",
   "id": "01881061",
   "metadata": {},
   "source": [
    "# Model Explainability"
   ]
  },
  {
   "cell_type": "markdown",
   "id": "f3c3dc78",
   "metadata": {},
   "source": [
    "## Introduction"
   ]
  },
  {
   "cell_type": "markdown",
   "id": "a3978c4a",
   "metadata": {},
   "source": [
    "This notebook loads evaluation results from the `/artifacts` directory and generates SHAP explainability plots for the model developed in  \n",
    "J. Albert-Smet, Z. Frias, L. Mendo, S. Melones, and E. Yraola, *“Characterizing 5G User Throughput via Uncertainty Modeling and Crowdsourced Measurements,”* arXiv preprint arXiv:2510.09239, Oct. 2025.\n",
    "\n",
    "The goal is to analyze feature importance and model behavior using SHAP values, providing a transparent interpretation of how different network parameters contribute to 5G user throughput predictions.\n",
    "\n",
    "This notebook is organized as follows:\n",
    "\n",
    "**1. Prepare Data**  \n",
    "   Load configuration files, SHAP values, and feature definitions required for analysis.\n",
    "\n",
    "**2. Visualize Plots**  \n",
    "   **2.1. Normalized Mean Absolute SHAP Values** – Summarizes standard SHAP beeswarm plots by computing the mean of absolute SHAP values. This provides a high-level comparison of feature influence from 4G to 5G SA.  \n",
    "   **2.2. Feature Value vs. SHAP Values** – Compares SHAP values with the corresponding feature values, showing both the magnitude and direction of influence. This is illustrated for *Frequency Band*, *RSRP*, and *DL TTFB*, the three most influential features in the 5G SA scenario. The spread of SHAP values also reflects NGBoost’s ability to produce more stable central estimates.  \n",
    "   **2.3. Feature Importance Ratios** – Quantifies the evolution of feature relevance from 4G to 5G SA, complementing the qualitative observations from section 2.1.\n"
   ]
  },
  {
   "cell_type": "markdown",
   "id": "0768c16b",
   "metadata": {},
   "source": [
    "## 1. Prepare Data"
   ]
  },
  {
   "cell_type": "markdown",
   "id": "1cd6f322",
   "metadata": {},
   "source": [
    "### Imports"
   ]
  },
  {
   "cell_type": "code",
   "execution_count": null,
   "id": "d36b52f5",
   "metadata": {},
   "outputs": [],
   "source": [
    "# Standard library imports\n",
    "import joblib\n",
    "\n",
    "# Third-party imports\n",
    "import pandas as pd\n",
    "import numpy as np\n",
    "import matplotlib.pyplot as plt\n",
    "import matplotlib.patches as mpatches\n",
    "from matplotlib import cm\n",
    "\n",
    "# Local imports\n",
    "from char5g.utils import (\n",
    "    get_latest_experiment_dir,\n",
    "    get_project_root,\n",
    "    load_config,\n",
    "    categorize_features,\n",
    ")"
   ]
  },
  {
   "cell_type": "markdown",
   "id": "554868d2",
   "metadata": {},
   "source": [
    "### Define Experiment Directory"
   ]
  },
  {
   "cell_type": "code",
   "execution_count": null,
   "id": "62e452fe",
   "metadata": {},
   "outputs": [],
   "source": [
    "# Option 1: Get results from latest experiment\n",
    "project_root = get_project_root()\n",
    "exp_dir = get_latest_experiment_dir(project_root / \"artifacts\")\n",
    "config = load_config(exp_dir / \"config.yaml\")\n",
    "\n",
    "# Option 2: Provide experiment directory and config file\n",
    "# exp_dir = \".../...\"\n",
    "# config = load_config(\".../...\")"
   ]
  },
  {
   "cell_type": "markdown",
   "id": "19444b1d",
   "metadata": {},
   "source": [
    "### Extract and Categorize Features"
   ]
  },
  {
   "cell_type": "code",
   "execution_count": null,
   "id": "839ac856",
   "metadata": {},
   "outputs": [],
   "source": [
    "features = config[\"data\"][\"features\"] + config[\"data\"][\"temporal_encodings\"]\n",
    "features_by_category = categorize_features(features)\n",
    "\n",
    "deployment = features_by_category[\"deployment\"]\n",
    "radio = features_by_category[\"radio\"]\n",
    "e2e = features_by_category[\"e2e\"]\n",
    "context = features_by_category[\"context\"]\n",
    "\n",
    "features_order = radio + e2e + context + deployment"
   ]
  },
  {
   "cell_type": "markdown",
   "id": "8b698dcf",
   "metadata": {},
   "source": [
    "### Load SHAP values and Modeling Data"
   ]
  },
  {
   "cell_type": "code",
   "execution_count": 45,
   "id": "dec332bc",
   "metadata": {},
   "outputs": [],
   "source": [
    "shap_values_test = joblib.load(exp_dir / \"eval\" / \"test_shap_values.pkl\")\n",
    "Xy_train_val_test = joblib.load(exp_dir / \"data_splits\" / \"Xy_train_val_test.pkl\")"
   ]
  },
  {
   "cell_type": "markdown",
   "id": "9db38376",
   "metadata": {},
   "source": [
    "### Create DataFrame: Mean Absolute SHAP Values per Model per Technology"
   ]
  },
  {
   "cell_type": "code",
   "execution_count": null,
   "id": "fd36e8a9",
   "metadata": {},
   "outputs": [],
   "source": [
    "# Initialize a DataFrame to store mean absolute SHAP values\n",
    "columns = [\n",
    "    f\"{tech}_{model}\"\n",
    "    for tech in shap_values_test.keys()\n",
    "    for model in shap_values_test[tech].keys()\n",
    "]\n",
    "\n",
    "shap_avg_df = pd.DataFrame(index=features, columns=columns, dtype=float)"
   ]
  },
  {
   "cell_type": "code",
   "execution_count": null,
   "id": "8f33bfdf",
   "metadata": {},
   "outputs": [],
   "source": [
    "# Compute mean absolute SHAP values for each (technology, model) pair\n",
    "for tech, models in shap_values_test.items():\n",
    "    for model_name, shap_vals in models.items():\n",
    "        col_name = f\"{tech}_{model_name}\"\n",
    "        shap_avg_df[col_name] = np.abs(shap_vals.values).mean(axis=0)"
   ]
  },
  {
   "cell_type": "code",
   "execution_count": null,
   "id": "c60e566f",
   "metadata": {},
   "outputs": [],
   "source": [
    "# Compute the normalized values to enable comparison between the models\n",
    "df_norm = shap_avg_df.div(shap_avg_df.sum(axis=0), axis=1)"
   ]
  },
  {
   "cell_type": "markdown",
   "id": "3d323d2e",
   "metadata": {},
   "source": [
    "## 2. Visualize Plots"
   ]
  },
  {
   "cell_type": "markdown",
   "id": "dc5d8541",
   "metadata": {},
   "source": [
    "### Mean Absolute SHAP Values per Model per Technology"
   ]
  },
  {
   "cell_type": "code",
   "execution_count": null,
   "id": "85ba98fe",
   "metadata": {},
   "outputs": [],
   "source": [
    "# Assign colors by feature category for consistent plotting\n",
    "category_colors = {\n",
    "    \"deployment\": cm.Greys,\n",
    "    \"radio\": cm.Blues,\n",
    "    \"e2e\": cm.Reds,\n",
    "    \"context\": cm.Greens,\n",
    "}\n",
    "\n",
    "# Build the color map\n",
    "color_map = {}\n",
    "for category, cmap in category_colors.items():\n",
    "    feats = features_by_category[category]\n",
    "    color_map.update({\n",
    "        f: c for f, c in zip(feats, cmap(np.linspace(0.4, 0.7, len(feats))))\n",
    "    })"
   ]
  },
  {
   "cell_type": "code",
   "execution_count": null,
   "id": "637d599f",
   "metadata": {},
   "outputs": [],
   "source": [
    "fig, ax = plt.subplots(figsize=(8, 4.5), dpi=150)\n",
    "\n",
    "bottom_vals = np.zeros(len(df_norm.columns))\n",
    "for feature in df_norm.index:\n",
    "    ax.bar(df_norm.columns, df_norm.loc[feature],\n",
    "           bottom=bottom_vals,\n",
    "           label=feature,\n",
    "           color=color_map[feature],   # same mapping as before\n",
    "           edgecolor=\"black\", linewidth=0.5,\n",
    "           width=0.5)\n",
    "    bottom_vals += df_norm.loc[feature].values\n",
    "\n",
    "ax.axvline(x=2.5, color=\"black\", linestyle=\"-\", linewidth=1)  # between 3rd and 4th ticks\n",
    "ax.axvline(x=5.5, color=\"black\", linestyle=\"-\", linewidth=1)  # between 6th and 7th ticks\n",
    "\n",
    "ax.axvspan(-0.5, 0.5, facecolor=\"none\", edgecolor=\"orange\",\n",
    "           hatch=\"///\", alpha=0.6, linewidth=0.0, zorder=0)\n",
    "\n",
    "ax.axvspan(0.5, 2.5, facecolor=\"none\", edgecolor=\"blue\",\n",
    "           hatch=\"///\", alpha=0.6, linewidth=0.0, zorder=0)\n",
    "\n",
    "ax.axvspan(2.5, 3.5, facecolor=\"none\", edgecolor=\"orange\",\n",
    "           hatch=\"///\", alpha=0.6, linewidth=0.0, zorder=0)\n",
    "\n",
    "ax.axvspan(3.5, 5.5, facecolor=\"none\", edgecolor=\"blue\",\n",
    "           hatch=\"///\", alpha=0.6, linewidth=0.0, zorder=0)\n",
    "\n",
    "ax.axvspan(5.5, 6.5, facecolor=\"none\", edgecolor=\"orange\",\n",
    "           hatch=\"///\", alpha=0.6, linewidth=0.0, zorder=0)\n",
    "\n",
    "ax.axvspan(6.5, 8.5, facecolor=\"none\", edgecolor=\"blue\",\n",
    "           hatch=\"///\", alpha=0.6, linewidth=0.0, zorder=0)\n",
    "\n",
    "ax.set_ylabel(\"Normalized Importance\")\n",
    "ax.legend(title=\"Feature\", bbox_to_anchor=(1.05, 1), loc=\"upper left\")\n",
    "ax.grid(axis=\"y\", linestyle=\"--\", alpha=0.5)\n",
    "ax.set_ylim(0, 1)\n",
    "\n",
    "tick_labels = ([\"XGB\", r\"NGB $\\mu$\", r\"NGB $\\sigma$\"] * 3)  # repeat 3 times\n",
    "ax.set_xticks(np.arange(len(df_norm.columns)))\n",
    "ax.set_xticklabels(tick_labels, rotation=0, fontsize=9)\n",
    "\n",
    "ax.tick_params(axis=\"x\", which=\"major\", pad=5)  \n",
    "\n",
    "group_labels = [\"4G\", \"5G_NSA\", \"5G_SA\"]\n",
    "group_sizes  = [3, 3, 3]  \n",
    "\n",
    "pos = np.arange(len(df_norm.columns))\n",
    "start = 0\n",
    "for label, size in zip(group_labels, group_sizes):\n",
    "    center = start + (size-1)/2\n",
    "    ax.text(center, -0.08, label, ha=\"center\", va=\"top\",\n",
    "            transform=ax.get_xaxis_transform(),\n",
    "            fontsize=11)\n",
    "    start += size\n",
    "\n",
    "h_xgb = mpatches.Patch(facecolor=\"none\", edgecolor=\"orange\",\n",
    "                       hatch=\"///\", label=\"XGBoost\", linewidth=0.0)\n",
    "h_ngb = mpatches.Patch(facecolor=\"none\", edgecolor=\"blue\",\n",
    "                       hatch=\"///\", label=\"NGBoost\", linewidth=0.0)\n",
    "\n",
    "feat_legend = ax.legend(title=\"Feature\", bbox_to_anchor=(1, 1), loc=\"upper left\")\n",
    "\n",
    "model_legend = ax.legend(handles=[h_xgb, h_ngb], title=\"Model encoding\",\n",
    "                         bbox_to_anchor=(1, 0.2), loc=\"upper left\", frameon=True)\n",
    "ax.add_artist(feat_legend)\n",
    "\n",
    "plt.tight_layout()\n",
    "plt.show()"
   ]
  },
  {
   "cell_type": "markdown",
   "id": "a5dd5f08",
   "metadata": {},
   "source": [
    "[View  Fig. 3. Average feature importance plot for the XGBoost and NGBoost models\n",
    "for 4G, 5G NSA and 5G SA. (PDF)](Fig3.Feature_importance.pdf)"
   ]
  },
  {
   "cell_type": "markdown",
   "id": "522c8395",
   "metadata": {},
   "source": [
    "### Feature Values vs SHAP Values for 5G SA"
   ]
  },
  {
   "cell_type": "code",
   "execution_count": null,
   "id": "6ea24da5",
   "metadata": {},
   "outputs": [],
   "source": [
    "tech = \"5G_SA\"\n",
    "fontsize = 12"
   ]
  },
  {
   "cell_type": "code",
   "execution_count": null,
   "id": "e861ee46",
   "metadata": {},
   "outputs": [],
   "source": [
    "fig, axs = plt.subplots(1, 3, figsize=(8, 3), sharey=True, constrained_layout=True)\n",
    "\n",
    "X_shap = Xy_train_val_test[tech][\"X_test\"]\n",
    "xgb_shap = shap_values_test[tech][\"XGBoost\"]\n",
    "ngboost_shap_mean = shap_values_test[tech][\"NGBoost_mean\"]\n",
    "\n",
    "for idx, feature_name in enumerate([\"Frequency Band\", \"RSRP\", \"DL TTFB\"]):\n",
    "\n",
    "    feature_idx_shap = features.index(feature_name)\n",
    "    feature_idx_x = features.index(feature_name)\n",
    "\n",
    "    axs[idx].axhline(0, color=\"gray\", linestyle=\"--\", alpha=0.7, label=\"Zero SHAP\")\n",
    "\n",
    "    axs[idx].scatter(X_shap[:, feature_idx_x], xgb_shap.values[:, feature_idx_shap],\n",
    "                color=\"blue\", alpha=0.5, label=\"XGBoost\")\n",
    "    axs[idx].scatter(X_shap[:, feature_idx_x], ngboost_shap_mean.values[:, feature_idx_shap],\n",
    "                color=\"orange\", alpha=0.5, label=r\"NGBoost $\\mu$\")\n",
    "\n",
    "    # axis labels\n",
    "    if feature_name == \"RSRP\":\n",
    "        axs[idx].set_xlabel(feature_name + \" (dBm)\", fontsize=fontsize)\n",
    "    elif feature_name == \"Frequency Band\":\n",
    "        axs[idx].set_xlabel(feature_name + \" (MHz)\", fontsize=fontsize)\n",
    "    elif feature_name == \"DL TTFB\":\n",
    "        axs[idx].set_xlabel(feature_name + \" (ms)\", fontsize=fontsize)\n",
    "\n",
    "    axs[idx].set_ylim([-2.5, 1.5])\n",
    "\n",
    "    if feature_name == \"DL TTFB\":\n",
    "        axs[idx].set_xscale(\"log\")\n",
    "        axs[idx].set_xlim([75, 1.5e3])\n",
    "\n",
    "    axs[idx].grid(True, linestyle=\"--\", alpha=0.6)\n",
    "\n",
    "    # tick labels larger\n",
    "    axs[idx].tick_params(axis=\"both\", labelsize=fontsize)\n",
    "\n",
    "# y-axis label\n",
    "axs[0].set_ylabel(\"SHAP value\", fontsize=fontsize)\n",
    "\n",
    "# legend with larger font\n",
    "axs[2].legend(fontsize=fontsize - 2)\n",
    "\n",
    "plt.show()\n"
   ]
  },
  {
   "cell_type": "markdown",
   "id": "3faf6a9a",
   "metadata": {},
   "source": [
    "[Fig. 4. SHAP vs feature value plots of XGBoost and NGBoost for the three\n",
    "most important inputs in 5G SA networks. (PDF)](Fig4.SHAP_spread.pdf)"
   ]
  },
  {
   "cell_type": "markdown",
   "id": "b1343338",
   "metadata": {},
   "source": [
    "### Ratio of Feature and Feature Groups SHAP Values "
   ]
  },
  {
   "cell_type": "code",
   "execution_count": null,
   "id": "e2c8e8dd",
   "metadata": {},
   "outputs": [],
   "source": [
    "# Compare total normalized SHAP importance between E2E and Radio features\n",
    "e2e_vs_radio_ratio = df_norm.loc[e2e].sum(axis=0) / df_norm.loc[radio].sum(axis=0)\n",
    "\n",
    "print(\"Ratio of total normalized SHAP importance between E2E and Radio feature groups:\")\n",
    "print(e2e_vs_radio_ratio)"
   ]
  },
  {
   "cell_type": "code",
   "execution_count": null,
   "id": "bbc61ecc",
   "metadata": {},
   "outputs": [],
   "source": [
    "# Compute relative importance of RSRQ compared to total Radio features\n",
    "rsrq_ratio = df_norm.loc[\"RSRQ\"] / df_norm.loc[radio].sum(axis=0)\n",
    "\n",
    "print(\"RSRQ relative contribution (vs. total radio features):\")\n",
    "print(rsrq_ratio)"
   ]
  },
  {
   "cell_type": "code",
   "execution_count": null,
   "id": "acae1156",
   "metadata": {},
   "outputs": [],
   "source": [
    "# Compute relative importance of RSRQ compared to total Radio features\n",
    "rsrp_ratio = df_norm.loc[\"RSRP\"] / df_norm.loc[radio].sum(axis=0)\n",
    "\n",
    "print(\"RSRP relative contribution (vs. total radio features):\")\n",
    "print(rsrp_ratio)"
   ]
  }
 ],
 "metadata": {
  "kernelspec": {
   "display_name": "char5g",
   "language": "python",
   "name": "python3"
  },
  "language_info": {
   "codemirror_mode": {
    "name": "ipython",
    "version": 3
   },
   "file_extension": ".py",
   "mimetype": "text/x-python",
   "name": "python",
   "nbconvert_exporter": "python",
   "pygments_lexer": "ipython3",
   "version": "3.12.11"
  }
 },
 "nbformat": 4,
 "nbformat_minor": 5
}
